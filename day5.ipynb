{
 "cells": [
  {
   "cell_type": "code",
   "execution_count": 11,
   "metadata": {},
   "outputs": [
    {
     "name": "stdout",
     "output_type": "stream",
     "text": [
      "[15 28 42 39  3 67 47 12 82 90 45 38 14  7 22 50 54 97 82  2 14 48 20 54\n",
      " 62 62 41  7 19 24  6 28 65 83 56 24 49 33 77 43 11 64 48 99 90 80 11 34\n",
      " 67 95 90 28 51 16 24  9 29 61 93 15 34 42 41 51  9 48 86  1 42 17  7 67\n",
      " 41 14 15 99 51 95 72 20 62 73 78 75 58 29  6 50 25 44 80  9 35 64 91 99\n",
      " 96 58 74 90]\n",
      "[15, 39, 3, 67, 47, 45, 7, 97, 41, 7, 19, 65, 83, 49, 33, 77, 43, 11, 99, 11, 67, 95, 51, 9, 29, 61, 93, 15, 41, 51, 9, 1, 17, 7, 67, 41, 15, 99, 51, 95, 73, 75, 29, 25, 9, 35, 91, 99]\n",
      "[28, 42, 12, 82, 90, 38, 14, 22, 50, 54, 82, 2, 14, 48, 20, 54, 62, 62, 24, 6, 28, 56, 24, 64, 48, 90, 80, 34, 90, 28, 16, 24, 34, 42, 48, 86, 42, 14, 72, 20, 62, 78, 58, 6, 50, 44, 80, 64, 96, 58, 74, 90]\n"
     ]
    }
   ],
   "source": [
    "import numpy as np \n",
    "\n",
    "data = np.random.randint(100, size=100)\n",
    "odd = []\n",
    "even = []\n",
    "print(data)\n",
    "for i in data:\n",
    "    if(i % 2 != 0):\n",
    "        odd.append(i)\n",
    "    else:\n",
    "        even.append(i)\n",
    "print(odd)\n",
    "print(even)"
   ]
  },
  {
   "cell_type": "code",
   "execution_count": 37,
   "metadata": {},
   "outputs": [
    {
     "name": "stdout",
     "output_type": "stream",
     "text": [
      "                MIT  Stanford    NUS\n",
      "NumOfStudents  5000      4500  15000\n",
      "Ranking           1         2    200\n",
      "[15000   200]\n",
      "200\n",
      "[[200]]\n",
      "[[  1   2 200]]\n"
     ]
    }
   ],
   "source": [
    "import pandas as pd\n",
    "\n",
    "data = [\n",
    "    {'MIT': 5000, 'Stanford': 4500, 'NUS': 15000},\n",
    "    {'MIT': 1, 'Stanford': 2, 'NUS': 200},\n",
    "]\n",
    "\n",
    "df = pd.DataFrame(data, index=['NumOfStudents','Ranking'])\n",
    "print(df)\n",
    "print(df.NUS.values)\n",
    "print(df['NUS']['Ranking'])\n",
    "print(df.values[1:,2:])\n",
    "print(df.values[1:,0:3:1])"
   ]
  },
  {
   "cell_type": "code",
   "execution_count": 65,
   "metadata": {},
   "outputs": [
    {
     "name": "stdout",
     "output_type": "stream",
     "text": [
      "         country  population      area    capital\n",
      "BR        Brazil         200   8515767   Brasilia\n",
      "RU        Russia         144  17098242     Moscow\n",
      "IN         India        1252   3287590  New Delhi\n",
      "CH         China        1357   9596961    Beijing\n",
      "SA  South Africa          55   1221037   Pretoria\n",
      "         country  population      area    capital\n",
      "BR        Brazil         200   8515767   Brasilia\n",
      "RU        Russia         144  17098242     Moscow\n",
      "IN         India        1252   3287590  New Delhi\n",
      "CH         China        1357   9596961    Beijing\n",
      "SA  South Africa          55   1221037   Pretoria\n",
      "VN       Vietnam           1         2  Hochiminh\n"
     ]
    }
   ],
   "source": [
    "import pandas as pd\n",
    "\n",
    "df = pd.read_csv('brics.csv',index_col=0)\n",
    "#df['test'] = [1,2,3,4,5]\n",
    "print(df)\n",
    "# print(df.loc['CH','area'])\n",
    "\n",
    "df.loc['VN'] = ['Vietnam', 1,2, 'Hochiminh'] \n",
    "print(df)"
   ]
  }
 ],
 "metadata": {
  "kernelspec": {
   "display_name": ".venv",
   "language": "python",
   "name": "python3"
  },
  "language_info": {
   "codemirror_mode": {
    "name": "ipython",
    "version": 3
   },
   "file_extension": ".py",
   "mimetype": "text/x-python",
   "name": "python",
   "nbconvert_exporter": "python",
   "pygments_lexer": "ipython3",
   "version": "3.11.6"
  }
 },
 "nbformat": 4,
 "nbformat_minor": 2
}
