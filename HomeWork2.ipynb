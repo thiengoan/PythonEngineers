{
 "cells": [
  {
   "cell_type": "markdown",
   "metadata": {},
   "source": [
    "1. Tạo một RESTful API để lấy thông tin từ 1 file.txt, với route là /get_file. Nội dung file\n",
    "tự chọn."
   ]
  },
  {
   "cell_type": "code",
   "execution_count": 6,
   "metadata": {},
   "outputs": [
    {
     "name": "stdout",
     "output_type": "stream",
     "text": [
      " * Serving Flask app '__main__'\n",
      " * Debug mode: off\n"
     ]
    },
    {
     "name": "stderr",
     "output_type": "stream",
     "text": [
      "WARNING: This is a development server. Do not use it in a production deployment. Use a production WSGI server instead.\n",
      " * Running on http://127.0.0.1:5000\n",
      "Press CTRL+C to quit\n",
      "127.0.0.1 - - [08/Nov/2023 08:49:51] \"GET / HTTP/1.1\" 404 -\n"
     ]
    }
   ],
   "source": [
    "from flask import Flask\n",
    "import pandas as pd\n",
    "\n",
    "app = Flask(__name__)\n",
    "\n",
    "@app.route(\"/get_file\")\n",
    "def get_file():\n",
    "    file = pd.read_csv('file.txt')\n",
    "    return file.to_json()\n",
    "\n",
    "if __name__ == '__main__':\n",
    "    app.run()"
   ]
  },
  {
   "cell_type": "markdown",
   "metadata": {},
   "source": [
    "2. Tạo lớp cha (Vehicle) với thuộc tính brand và phương thức display_info. Sau đó,\n",
    "tạo lớp con (Car) kế thừa từ lớp Vehicle và thêm thuộc tính model. Viết phương thức\n",
    "display_info để hiển thị thông tin về hãng xe (brand) và mẫu xe (model)."
   ]
  },
  {
   "cell_type": "code",
   "execution_count": 3,
   "metadata": {},
   "outputs": [
    {
     "name": "stdout",
     "output_type": "stream",
     "text": [
      "Brand: BMW\n",
      "None\n",
      "Brand: BMW --- Model: s200\n",
      "None\n"
     ]
    }
   ],
   "source": [
    "class Vehicle:\n",
    "    def __init__(self,brand):\n",
    "        self.brand = brand\n",
    "\n",
    "    def display_info(self):\n",
    "        print('Brand: {}'.format(self.brand))\n",
    "\n",
    "class Car(Vehicle):\n",
    "    def __init__(self,brand,model):\n",
    "        super().__init__(brand)\n",
    "        self.model = model\n",
    "        \n",
    "    def display_info(self):\n",
    "        print('Brand: {} --- Model: {}'.format(self.brand,self.model))\n",
    "    \n",
    "a = Vehicle('BMW')\n",
    "print(a.display_info())\n",
    "\n",
    "b = Car('BMW','s200')\n",
    "print(b.display_info())\n",
    "\n"
   ]
  },
  {
   "cell_type": "markdown",
   "metadata": {},
   "source": [
    "3. Tạo lớp cha (BankAccount) với thuộc tính balance và phương thức withdraw,\n",
    "phương thức withdraw sẽ được tính = balance – amount (được rút ra). Sau đó, tạo\n",
    "lớp con (SavingsAccount) kế thừa từ lớp BankAccount và thêm phương thức\n",
    "interest. Phương thức interest tính lãi suất rate (interest = balance * rate) và cộng\n",
    "vào số dư."
   ]
  },
  {
   "cell_type": "code",
   "execution_count": 2,
   "metadata": {},
   "outputs": [
    {
     "name": "stdout",
     "output_type": "stream",
     "text": [
      "1000\n",
      "0.05\n",
      "50.0\n",
      "1050.0\n",
      "1102.5\n"
     ]
    }
   ],
   "source": [
    "class BankAccount:\n",
    "    def __init__(self,balance):\n",
    "        self.balance = balance\n",
    "\n",
    "    def withdraw(self,amount):\n",
    "        return self.balance - amount\n",
    "\n",
    "class SavingsAccount(BankAccount):\n",
    "    \n",
    "    def __init__(self, balance, rate):\n",
    "        super().__init__(balance)\n",
    "        self.rate = rate\n",
    "\n",
    "    def interest(self):\n",
    "        return self.balance * self.rate\n",
    "\n",
    "    def add_interest(self):\n",
    "        self.balance += self.interest()\n",
    "\n",
    "\n",
    "sa = SavingsAccount(1000, 0.05)\n",
    "print(sa.balance) # 1000\n",
    "print(sa.rate) # 0.05\n",
    "print(sa.interest()) # 1000*0.05 = 50\n",
    "\n",
    "sa.add_interest() # 1000 + 1000*0.05\n",
    "print(sa.balance) # 1050\n",
    "sa.add_interest() # 1050 + 1050*0.05\n",
    "print(sa.balance) # 1102.5"
   ]
  },
  {
   "cell_type": "markdown",
   "metadata": {},
   "source": [
    "4. Tạo lớp cha (Parent) với phương thức display_message, in ra 1 thông báo. Sau đó,\n",
    "tạo lớp con (Child) kế thừa từ lớp Parent và ghi đè phương thức display_message\n",
    "để in ra một thông báo riêng."
   ]
  },
  {
   "cell_type": "code",
   "execution_count": 2,
   "metadata": {},
   "outputs": [
    {
     "name": "stdout",
     "output_type": "stream",
     "text": [
      "Parent\n",
      "Child\n"
     ]
    }
   ],
   "source": [
    "class Parent:\n",
    "    def display_message(self):\n",
    "        print(\"Parent\")\n",
    "\n",
    "class Child(Parent):\n",
    "    def display_message(self):\n",
    "        print(\"Child\")\n",
    "\n",
    "parent = Parent()\n",
    "parent.display_message()\n",
    "child = Child()\n",
    "child.display_message()"
   ]
  }
 ],
 "metadata": {
  "kernelspec": {
   "display_name": ".venv",
   "language": "python",
   "name": "python3"
  },
  "language_info": {
   "codemirror_mode": {
    "name": "ipython",
    "version": 3
   },
   "file_extension": ".py",
   "mimetype": "text/x-python",
   "name": "python",
   "nbconvert_exporter": "python",
   "pygments_lexer": "ipython3",
   "version": "3.11.6"
  }
 },
 "nbformat": 4,
 "nbformat_minor": 2
}
